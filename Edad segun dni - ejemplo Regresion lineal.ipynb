{
 "cells": [
  {
   "cell_type": "code",
   "execution_count": 3,
   "metadata": {
    "collapsed": true
   },
   "outputs": [],
   "source": [
    "import pandas as pd\n"
   ]
  },
  {
   "cell_type": "markdown",
   "metadata": {},
   "source": [
    "# Muestra de datos"
   ]
  },
  {
   "cell_type": "code",
   "execution_count": 5,
   "metadata": {},
   "outputs": [
    {
     "name": "stdout",
     "output_type": "stream",
     "text": [
      "    DNI  age\n",
      "0    30   30\n",
      "1     5   70\n",
      "2    22   45\n",
      "3    23   46\n",
      "4    13   58\n",
      "5    13   54\n",
      "6    34   29\n",
      "7    29   36\n",
      "8    33   29\n",
      "9     4   71\n",
      "10   13   60\n",
      "11   23   44\n",
      "12   34   29\n"
     ]
    }
   ],
   "source": [
    "df = pd.DataFrame(data=[[30,30],[5,70],[22,45],[23,46]\n",
    "                          ,[13,58],[13,54],[34,29],[29,36],[33,29],[4,71],[13,60],\n",
    "                        [23,44],[34,29]\n",
    "                         \n",
    "                         ],columns=[\"DNI\",\"age\"])\n",
    "#Estos datos corresponden al 2018. Ajustamos los datos al momento de su ejecucion adicionando la diferencia\n",
    "#con respecto al 2018.\n",
    "import datetime\n",
    "now = datetime.datetime.now()\n",
    "df[\"age\"] = df[\"age\"] - (2018 - now.year)\n",
    "print (df)"
   ]
  },
  {
   "cell_type": "code",
   "execution_count": null,
   "metadata": {
    "collapsed": true
   },
   "outputs": [],
   "source": []
  },
  {
   "cell_type": "code",
   "execution_count": 24,
   "metadata": {
    "collapsed": true
   },
   "outputs": [],
   "source": [
    "%matplotlib inline\n",
    "\n",
    "import matplotlib\n",
    "import numpy as np\n",
    "import matplotlib.pyplot as plt"
   ]
  },
  {
   "cell_type": "code",
   "execution_count": 25,
   "metadata": {},
   "outputs": [
    {
     "data": {
      "image/png": "[encoded data removed]",
      "text/plain": [
       "<matplotlib.figure.Figure at 0x7f0c0349c4e0>"
      ]
     },
     "metadata": {},
     "output_type": "display_data"
    }
   ],
   "source": [
    "df.plot(kind=\"scatter\",y=\"age\",x=\"DNI\")\n",
    "plt.show()"
   ]
  },
  {
   "cell_type": "code",
   "execution_count": 27,
   "metadata": {},
   "outputs": [
    {
     "data": {
      "text/plain": [
       "LinearRegression(copy_X=True, fit_intercept=True, n_jobs=1, normalize=False)"
      ]
     },
     "execution_count": 27,
     "metadata": {},
     "output_type": "execute_result"
    }
   ],
   "source": [
    "import pandas as pd\n",
    "\n",
    "import numpy as np\n",
    "\n",
    "import matplotlib.pyplot as plt\n",
    "\n",
    "from sklearn.linear_model import LinearRegression\n",
    "\n",
    "X = df['DNI'].values[:,np.newaxis]\n",
    "\n",
    "y = df['age'].values\n",
    "\n",
    "model = LinearRegression()\n",
    "\n",
    "model.fit(X, y)"
   ]
  },
  {
   "cell_type": "code",
   "execution_count": 36,
   "metadata": {},
   "outputs": [
    {
     "data": {
      "image/png": "[encoded data removed]",
      "text/plain": [
       "<matplotlib.figure.Figure at 0x7f0c0334fa58>"
      ]
     },
     "metadata": {},
     "output_type": "display_data"
    }
   ],
   "source": [
    "plt.scatter(X, y,color='r')\n",
    "\n",
    "plt.plot(X, model.predict(X),color='k')\n",
    "plt.title('Edad segun DNI', fontsize=20)\n",
    "plt.xlabel('DNI en Millones (M)', fontsize=12)\n",
    "plt.ylabel('Edad al 2018', fontsize=12)\n",
    "plt.show()"
   ]
  },
  {
   "cell_type": "code",
   "execution_count": 38,
   "metadata": {},
   "outputs": [
    {
     "name": "stdout",
     "output_type": "stream",
     "text": [
      "[-1.42584081]\n",
      "76.5024663677\n"
     ]
    }
   ],
   "source": [
    "#Dado Y=mx+b . m = model.coef_. b=model.intercept_\n",
    "print (model.coef_)\n",
    "print (model.intercept_)"
   ]
  },
  {
   "cell_type": "code",
   "execution_count": null,
   "metadata": {
    "collapsed": true
   },
   "outputs": [],
   "source": []
  }
 ],
 "metadata": {
  "kernelspec": {
   "display_name": "Python 3",
   "language": "python",
   "name": "python3"
  },
  "language_info": {
   "codemirror_mode": {
    "name": "ipython",
    "version": 3
   },
   "file_extension": ".py",
   "mimetype": "text/x-python",
   "name": "python",
   "nbconvert_exporter": "python",
   "pygments_lexer": "ipython3",
   "version": "3.6.3"
  }
 },
 "nbformat": 4,
 "nbformat_minor": 2
}
